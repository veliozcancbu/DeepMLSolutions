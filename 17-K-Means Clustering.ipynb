{
 "cells": [
  {
   "cell_type": "code",
   "execution_count": null,
   "id": "initial_id",
   "metadata": {
    "collapsed": true
   },
   "outputs": [],
   "source": [
    "\"\"\"\n",
    "Your task is to write a Python function that implements the k-Means clustering algorithm. This function should take specific inputs and produce a list of final centroids. k-Means clustering is a method used to partition n points into k clusters. The goal is to group similar points together and represent each group by its center (called the centroid).\n",
    "\n",
    "Function Inputs:\n",
    "points: A list of points, where each point is a tuple of coordinates (e.g., (x, y) for 2D points)\n",
    "k: An integer representing the number of clusters to form\n",
    "initial_centroids: A list of initial centroid points, each a tuple of coordinates\n",
    "max_iterations: An integer representing the maximum number of iterations to perform\n",
    "Function Output:\n",
    "A list of the final centroids of the clusters, where each centroid is rounded to the nearest fourth decimal.\n",
    "\n",
    "Example:\n",
    "Input:\n",
    "points = [(1, 2), (1, 4), (1, 0), (10, 2), (10, 4), (10, 0)], k = 2, initial_centroids = [(1, 1), (10, 1)], max_iterations = 10\n",
    "Output:\n",
    "[(1, 2), (10, 2)]\n",
    "Reasoning:\n",
    "Given the initial centroids and a maximum of 10 iterations, the points are clustered around these points, and the centroids are updated to the mean of the assigned points, resulting in the final centroids which approximate the means of the two clusters. The exact number of iterations needed may vary, but the process will stop after 10 iterations at most.\n",
    "\"\"\""
   ]
  },
  {
   "metadata": {
    "ExecuteTime": {
     "end_time": "2025-10-27T07:10:06.809002Z",
     "start_time": "2025-10-27T07:10:06.803351Z"
    }
   },
   "cell_type": "code",
   "source": [
    "def k_means_clustering(points: list[tuple[float, ...]],k: int,initial_centroids: list[tuple[float, ...]],\n",
    "                       max_iterations: int) -> list[tuple[float, ...]]:\n",
    "\n",
    "    centroids = [list(c) for c in initial_centroids]\n",
    "\n",
    "    for _ in range(max_iterations):\n",
    "        clusters = [[] for _ in range(k)]\n",
    "        for p in points:\n",
    "            distances = []\n",
    "            for c in centroids:\n",
    "                dist = sum((pi - ci) ** 2 for pi, ci in zip(p, c)) ** 0.5\n",
    "                distances.append(dist)\n",
    "            nearest = distances.index(min(distances))\n",
    "            clusters[nearest].append(p)\n",
    "\n",
    "        new_centroids = []\n",
    "        for cluster, old_c in zip(clusters, centroids):\n",
    "            if cluster:\n",
    "                dim = len(cluster[0])\n",
    "                mean = [sum(p[d] for p in cluster) / len(cluster) for d in range(dim)]\n",
    "                new_centroids.append(mean)\n",
    "            else:\n",
    "                new_centroids.append(old_c)\n",
    "\n",
    "        if all(all(abs(new_centroids[i][d] - centroids[i][d]) < 1e-4\n",
    "                for d in range(len(centroids[0])))\n",
    "            for i in range(k)):\n",
    "            break\n",
    "\n",
    "        centroids = new_centroids\n",
    "\n",
    "    return [tuple(round(v, 4) for v in c) for c in centroids]"
   ],
   "id": "4af6a444f2eff5e1",
   "outputs": [],
   "execution_count": 3
  },
  {
   "metadata": {
    "ExecuteTime": {
     "end_time": "2025-10-27T07:10:45.595624Z",
     "start_time": "2025-10-27T07:10:45.592732Z"
    }
   },
   "cell_type": "code",
   "source": [
    "points = [(1, 2), (1, 4), (1, 0), (10, 2), (10, 4), (10, 0)]\n",
    "k = 2\n",
    "initial_centroids = [(1, 1), (10, 1)]\n",
    "max_iterations = 10\n",
    "kmeans = k_means_clustering(points,k,initial_centroids,max_iterations)\n",
    "print(kmeans)"
   ],
   "id": "f418bbe2c7e76234",
   "outputs": [
    {
     "name": "stdout",
     "output_type": "stream",
     "text": [
      "[(1.0, 2.0), (10.0, 2.0)]\n"
     ]
    }
   ],
   "execution_count": 4
  }
 ],
 "metadata": {
  "kernelspec": {
   "display_name": "Python 3",
   "language": "python",
   "name": "python3"
  },
  "language_info": {
   "codemirror_mode": {
    "name": "ipython",
    "version": 2
   },
   "file_extension": ".py",
   "mimetype": "text/x-python",
   "name": "python",
   "nbconvert_exporter": "python",
   "pygments_lexer": "ipython2",
   "version": "2.7.6"
  }
 },
 "nbformat": 4,
 "nbformat_minor": 5
}
