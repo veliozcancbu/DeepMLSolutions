{
 "cells": [
  {
   "metadata": {},
   "cell_type": "code",
   "source": [
    "\"\"\"\n",
    "Write a Python function that computes the transpose of a given matrix.\n",
    "\n",
    "Example:\n",
    "Input:\n",
    "a = [[1,2,3],[4,5,6]]\n",
    "Output:\n",
    "[[1,4],[2,5],[3,6]]\n",
    "Reasoning:\n",
    "The transpose of a matrix is obtained by flipping rows and columns.\n",
    "\"\"\""
   ],
   "id": "92b34d910cecd8a1",
   "outputs": [],
   "execution_count": null
  },
  {
   "metadata": {
    "ExecuteTime": {
     "end_time": "2025-10-18T12:38:23.547645Z",
     "start_time": "2025-10-18T12:38:23.544759Z"
    }
   },
   "cell_type": "code",
   "source": [
    "def transpose_matrix(a: list[list[int|float]]) -> list[list[int|float]]:\n",
    "    \n",
    "    if not a or not a[0]:\n",
    "        return []\n",
    "    \n",
    "    num_rows = len(a)\n",
    "    num_cols = len(a[0])\n",
    "    \n",
    "    b = []\n",
    "    \n",
    "    for i in range(num_cols):\n",
    "        temp = []\n",
    "        for j in range(num_rows):\n",
    "            c = a[j][i]\n",
    "            temp.append(c)\n",
    "    \n",
    "        b.append(temp)\n",
    "    \n",
    "    return b"
   ],
   "id": "355e4b18fb789dfe",
   "outputs": [],
   "execution_count": 2
  },
  {
   "metadata": {
    "ExecuteTime": {
     "end_time": "2025-10-18T12:38:23.665558Z",
     "start_time": "2025-10-18T12:38:23.663422Z"
    }
   },
   "cell_type": "code",
   "source": [
    "a = [[1,2,3],[4,5,6]]\n",
    "transpose_matrix(a)"
   ],
   "id": "6a6305dba68e420",
   "outputs": [
    {
     "data": {
      "text/plain": [
       "[[1, 4], [2, 5], [3, 6]]"
      ]
     },
     "execution_count": 3,
     "metadata": {},
     "output_type": "execute_result"
    }
   ],
   "execution_count": 3
  }
 ],
 "metadata": {
  "kernelspec": {
   "display_name": "Python 3",
   "language": "python",
   "name": "python3"
  },
  "language_info": {
   "codemirror_mode": {
    "name": "ipython",
    "version": 2
   },
   "file_extension": ".py",
   "mimetype": "text/x-python",
   "name": "python",
   "nbconvert_exporter": "python",
   "pygments_lexer": "ipython2",
   "version": "2.7.6"
  }
 },
 "nbformat": 4,
 "nbformat_minor": 5
}
