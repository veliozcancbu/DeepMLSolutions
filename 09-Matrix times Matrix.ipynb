{
 "cells": [
  {
   "metadata": {},
   "cell_type": "code",
   "outputs": [],
   "execution_count": null,
   "source": [
    "\"\"\"\n",
    "multiply two matrices together (return -1 if shapes of matrix don't align), i.e.  C = A ⋅B\n",
    "Example:\n",
    "Input:\n",
    "A = [[1,2],[2,4]], B = [[2,1],[3,4]]\n",
    "Output:\n",
    "[[ 8,  9],[16, 18]]\n",
    "Reasoning:\n",
    "1*2 + 2*3 = 8; 2*2 + 3*4 = 16; 1*1 + 2*4 = 9; 2*1 + 4*4 = 18 Example 2: input: A = [[1,2], [2,4]], B = [[2,1], [3,4], [4,5]] output: -1 reasoning: the length of the rows of A does not equal the column length of B\n",
    "\"\"\""
   ],
   "id": "8700aad5070a2dcc"
  },
  {
   "metadata": {
    "collapsed": true,
    "ExecuteTime": {
     "end_time": "2025-10-21T12:12:05.062103Z",
     "start_time": "2025-10-21T12:12:05.057095Z"
    }
   },
   "cell_type": "code",
   "outputs": [],
   "execution_count": 1,
   "source": [
    "def matrixmul(a: list[list[int | float]], \n",
    "              b: list[list[int | float]]) -> list[list[int | float]] | int:\n",
    "    \n",
    "    if len(a[0]) != len(b):\n",
    "        return -1\n",
    "\n",
    "    c = []\n",
    "\n",
    "    for i in range(len(a)):\n",
    "        row = []\n",
    "        for j in range(len(b[0])):\n",
    "            s = 0\n",
    "            for k in range(len(b)):\n",
    "                s += a[i][k] * b[k][j]\n",
    "            row.append(s)\n",
    "        c.append(row)\n",
    "    \n",
    "    return c"
   ],
   "id": "initial_id"
  },
  {
   "metadata": {
    "ExecuteTime": {
     "end_time": "2025-10-21T12:12:45.518316Z",
     "start_time": "2025-10-21T12:12:45.515614Z"
    }
   },
   "cell_type": "code",
   "source": [
    "A = [[1,2],[2,4]]\n",
    "B = [[2,1],[3,4]]\n",
    "print(matrixmul(A, B))"
   ],
   "id": "7f016c90016a9249",
   "outputs": [
    {
     "name": "stdout",
     "output_type": "stream",
     "text": [
      "[[8, 9], [16, 18]]\n"
     ]
    }
   ],
   "execution_count": 2
  }
 ],
 "metadata": {
  "kernelspec": {
   "display_name": "Python 3",
   "language": "python",
   "name": "python3"
  },
  "language_info": {
   "codemirror_mode": {
    "name": "ipython",
    "version": 2
   },
   "file_extension": ".py",
   "mimetype": "text/x-python",
   "name": "python",
   "nbconvert_exporter": "python",
   "pygments_lexer": "ipython2",
   "version": "2.7.6"
  }
 },
 "nbformat": 4,
 "nbformat_minor": 5
}
