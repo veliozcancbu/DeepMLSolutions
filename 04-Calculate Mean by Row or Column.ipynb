{
 "cells": [
  {
   "cell_type": "code",
   "id": "initial_id",
   "metadata": {
    "collapsed": true
   },
   "source": [
    "from numpy.matrixlib.defmatrix import matrix\n",
    "\n",
    "\"\"\"\n",
    "Write a Python function that calculates the mean of a matrix either by row or by column, based on a given mode. The function should take a matrix (list of lists) and a mode ('row' or 'column') as input and return a list of means according to the specified mode.\n",
    "\n",
    "Example:\n",
    "Input:\n",
    "matrix = [[1, 2, 3], [4, 5, 6], [7, 8, 9]], mode = 'column'\n",
    "Output:\n",
    "[4.0, 5.0, 6.0]\n",
    "Reasoning:\n",
    "Calculating the mean of each column results in [(1+4+7)/3, (2+5+8)/3, (3+6+9)/3].\n",
    "\"\"\""
   ],
   "outputs": [],
   "execution_count": null
  },
  {
   "metadata": {
    "ExecuteTime": {
     "end_time": "2025-10-18T20:10:02.068121Z",
     "start_time": "2025-10-18T20:10:02.065199Z"
    }
   },
   "cell_type": "code",
   "source": [
    "def calculate_matrix_mean(matrix: list[list[float]], mode: str) -> list[float]:\n",
    "    \n",
    "    mean_list = []\n",
    "    \n",
    "    if mode.lower() == 'row':\n",
    "        for row in matrix:\n",
    "            mean_list.append(sum(row) / len(row))\n",
    "        return mean_list\n",
    "    \n",
    "    elif mode.lower() == 'column':\n",
    "        num_rows = len(matrix)\n",
    "        num_cols = len(matrix[0])\n",
    "        \n",
    "        for i in range(num_cols):\n",
    "            sum_ = 0\n",
    "            for j in range(num_rows):\n",
    "                sum_ += matrix[j][i]\n",
    "            mean_list.append(sum_ / num_rows)\n",
    "        return mean_list\n",
    "    \n",
    "    else:\n",
    "        return []"
   ],
   "id": "249d74cd46251cd3",
   "outputs": [],
   "execution_count": 28
  },
  {
   "metadata": {
    "ExecuteTime": {
     "end_time": "2025-10-18T20:10:02.439Z",
     "start_time": "2025-10-18T20:10:02.436484Z"
    }
   },
   "cell_type": "code",
   "source": "calculate_matrix_mean(matrix = [[1, 2, 3], [4, 5, 6], [7, 8, 9]], mode = 'row')",
   "id": "82a675beea08c6ef",
   "outputs": [
    {
     "data": {
      "text/plain": [
       "[2.0, 5.0, 8.0]"
      ]
     },
     "execution_count": 29,
     "metadata": {},
     "output_type": "execute_result"
    }
   ],
   "execution_count": 29
  },
  {
   "metadata": {
    "ExecuteTime": {
     "end_time": "2025-10-18T20:10:02.572920Z",
     "start_time": "2025-10-18T20:10:02.570083Z"
    }
   },
   "cell_type": "code",
   "source": "calculate_matrix_mean(matrix = [[1, 2, 3], [4, 5, 6], [7, 8, 9]], mode = 'column')",
   "id": "75e5db023a1444d9",
   "outputs": [
    {
     "data": {
      "text/plain": [
       "[4.0, 5.0, 6.0]"
      ]
     },
     "execution_count": 30,
     "metadata": {},
     "output_type": "execute_result"
    }
   ],
   "execution_count": 30
  },
  {
   "metadata": {
    "ExecuteTime": {
     "end_time": "2025-10-18T20:11:24.014947Z",
     "start_time": "2025-10-18T20:11:24.010671Z"
    }
   },
   "cell_type": "code",
   "source": "calculate_matrix_mean(matrix = [[1, 2, 3], [4, 5, 6], [7, 8, 9]], mode = 'VictorOsimhen')",
   "id": "9562bad8f1ea1620",
   "outputs": [
    {
     "data": {
      "text/plain": [
       "[]"
      ]
     },
     "execution_count": 31,
     "metadata": {},
     "output_type": "execute_result"
    }
   ],
   "execution_count": 31
  }
 ],
 "metadata": {
  "kernelspec": {
   "display_name": "Python 3",
   "language": "python",
   "name": "python3"
  },
  "language_info": {
   "codemirror_mode": {
    "name": "ipython",
    "version": 2
   },
   "file_extension": ".py",
   "mimetype": "text/x-python",
   "name": "python",
   "nbconvert_exporter": "python",
   "pygments_lexer": "ipython2",
   "version": "2.7.6"
  }
 },
 "nbformat": 4,
 "nbformat_minor": 5
}
