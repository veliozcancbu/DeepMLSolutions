{
 "cells": [
  {
   "metadata": {},
   "cell_type": "code",
   "source": [
    "\"\"\"\n",
    "Write a Python function that reshapes a given matrix into a specified shape. if it cant be reshaped return back an empty list [ ]\n",
    "\n",
    "Example:\n",
    "Input:\n",
    "a = [[1,2,3,4],[5,6,7,8]], new_shape = (4, 2)\n",
    "Output:\n",
    "[[1, 2], [3, 4], [5, 6], [7, 8]]\n",
    "Reasoning:\n",
    "The given matrix is reshaped from 2x4 to 4x2.\n",
    "\"\"\""
   ],
   "id": "2bdbf6e29f02448f",
   "outputs": [],
   "execution_count": null
  },
  {
   "metadata": {
    "collapsed": true,
    "ExecuteTime": {
     "end_time": "2025-10-18T17:19:13.804176Z",
     "start_time": "2025-10-18T17:19:13.799624Z"
    }
   },
   "cell_type": "code",
   "source": [
    "# !pip install numpy\n",
    "import numpy as np\n",
    "\n",
    "def reshape_matrix(a: list[list[int|float]], new_shape: tuple[int, int]) -> list[list[int|float]]:\n",
    "    \n",
    "    new_row = new_shape[0]\n",
    "    new_col = new_shape[1]\n",
    "    \n",
    "    total = new_row * new_col\n",
    "\n",
    "    raw = []\n",
    "    reshaped = []\n",
    "    \n",
    "    for row in a:\n",
    "        for elem in row:\n",
    "            raw.append(elem)\n",
    "            \n",
    "    if len(raw) == total:\n",
    "        for i in range(0, len(raw), new_col):\n",
    "            row_part = raw[i:i + new_col]\n",
    "            reshaped.append(row_part)\n",
    "    else:\n",
    "        return []\n",
    "    \n",
    "    return reshaped"
   ],
   "id": "initial_id",
   "outputs": [],
   "execution_count": 6
  },
  {
   "metadata": {
    "ExecuteTime": {
     "end_time": "2025-10-18T17:19:14.093236Z",
     "start_time": "2025-10-18T17:19:14.088958Z"
    }
   },
   "cell_type": "code",
   "source": "reshape_matrix([[1, 2, 3], [4, 5, 6], [7, 8, 9], [10, 11, 12]], new_shape=(6, 2))",
   "id": "cb26c738a4b747bb",
   "outputs": [
    {
     "data": {
      "text/plain": [
       "[[1, 2], [3, 4], [5, 6], [7, 8], [9, 10], [11, 12]]"
      ]
     },
     "execution_count": 7,
     "metadata": {},
     "output_type": "execute_result"
    }
   ],
   "execution_count": 7
  },
  {
   "metadata": {
    "ExecuteTime": {
     "end_time": "2025-10-18T17:19:14.364245Z",
     "start_time": "2025-10-18T17:19:14.359419Z"
    }
   },
   "cell_type": "code",
   "source": "reshape_matrix([[1, 2, 3], [4, 5, 6], [7, 8, 9], [10, 11, 12]], new_shape=(3, 6))",
   "id": "607d38f59c304b5a",
   "outputs": [
    {
     "data": {
      "text/plain": [
       "[]"
      ]
     },
     "execution_count": 8,
     "metadata": {},
     "output_type": "execute_result"
    }
   ],
   "execution_count": 8
  }
 ],
 "metadata": {
  "kernelspec": {
   "display_name": "Python 3",
   "language": "python",
   "name": "python3"
  },
  "language_info": {
   "codemirror_mode": {
    "name": "ipython",
    "version": 2
   },
   "file_extension": ".py",
   "mimetype": "text/x-python",
   "name": "python",
   "nbconvert_exporter": "python",
   "pygments_lexer": "ipython2",
   "version": "2.7.6"
  }
 },
 "nbformat": 4,
 "nbformat_minor": 5
}
