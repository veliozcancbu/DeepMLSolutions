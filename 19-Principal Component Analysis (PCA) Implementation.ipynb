{
 "cells": [
  {
   "cell_type": "code",
   "execution_count": null,
   "id": "initial_id",
   "metadata": {
    "collapsed": true
   },
   "outputs": [],
   "source": [
    "\"\"\"\n",
    "Principal Component Analysis (PCA) Implementation\n",
    "Medium\n",
    "Machine Learning\n",
    "\n",
    "Write a Python function that performs Principal Component Analysis (PCA) from scratch. The function should take a 2D NumPy array as input, where each row represents a data sample and each column represents a feature. The function should standardize the dataset, compute the covariance matrix, find the eigenvalues and eigenvectors, and return the principal components (the eigenvectors corresponding to the largest eigenvalues). The function should also take an integer k as input, representing the number of principal components to return.\n",
    "\n",
    "Example:\n",
    "Input:\n",
    "data = np.array([[1, 2], [3, 4], [5, 6]]), k = 1\n",
    "Output:\n",
    "[[0.7071], [0.7071]]\n",
    "Reasoning:\n",
    "After standardizing the data and computing the covariance matrix, the eigenvalues and eigenvectors are calculated. The largest eigenvalue's corresponding eigenvector is returned as the principal component, rounded to four decimal places.\n",
    "\"\"\""
   ]
  },
  {
   "metadata": {
    "ExecuteTime": {
     "end_time": "2025-10-29T10:47:11.939278Z",
     "start_time": "2025-10-29T10:47:11.504545Z"
    }
   },
   "cell_type": "code",
   "source": [
    "import numpy as np\n",
    "\n",
    "def pca(data: np.ndarray, k: int) -> np.ndarray:\n",
    "\n",
    "    X = (data - np.mean(data, axis=0)) / np.std(data, axis=0, ddof=0)\n",
    "    cov_matrix = np.cov(X, rowvar=False)\n",
    "    eigvals, eigvecs = np.linalg.eig(cov_matrix)\n",
    "    sorted_indices = np.argsort(eigvals)[::-1]\n",
    "    eigvecs = eigvecs[:, sorted_indices]\n",
    "    principal_components = eigvecs[:, :k]\n",
    "    \n",
    "    return np.round(principal_components, 4)"
   ],
   "id": "4e807349099e9b5",
   "outputs": [],
   "execution_count": 1
  },
  {
   "metadata": {
    "ExecuteTime": {
     "end_time": "2025-10-29T10:47:17.504702Z",
     "start_time": "2025-10-29T10:47:17.496212Z"
    }
   },
   "cell_type": "code",
   "source": [
    "data = np.array([[1, 2], [3, 4], [5, 6]])\n",
    "k = 1\n",
    "principal_components = pca(data, k)\n",
    "print(principal_components)"
   ],
   "id": "2381e671a9c74c",
   "outputs": [
    {
     "name": "stdout",
     "output_type": "stream",
     "text": [
      "[[0.7071]\n",
      " [0.7071]]\n"
     ]
    }
   ],
   "execution_count": 2
  }
 ],
 "metadata": {
  "kernelspec": {
   "display_name": "Python 3",
   "language": "python",
   "name": "python3"
  },
  "language_info": {
   "codemirror_mode": {
    "name": "ipython",
    "version": 2
   },
   "file_extension": ".py",
   "mimetype": "text/x-python",
   "name": "python",
   "nbconvert_exporter": "python",
   "pygments_lexer": "ipython2",
   "version": "2.7.6"
  }
 },
 "nbformat": 4,
 "nbformat_minor": 5
}
