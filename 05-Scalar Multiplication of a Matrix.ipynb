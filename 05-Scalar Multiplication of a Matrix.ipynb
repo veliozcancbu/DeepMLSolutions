{
 "cells": [
  {
   "metadata": {},
   "cell_type": "code",
   "source": [
    "\"\"\"\n",
    "Write a Python function that multiplies a matrix by a scalar and returns the result.\n",
    "\n",
    "Example:\n",
    "Input:\n",
    "matrix = [[1, 2], [3, 4]], scalar = 2\n",
    "Output:\n",
    "[[2, 4], [6, 8]]\n",
    "Reasoning:\n",
    "Each element of the matrix is multiplied by the scalar.\n",
    "\"\"\""
   ],
   "id": "145bfc6799e5842f",
   "outputs": [],
   "execution_count": null
  },
  {
   "metadata": {
    "collapsed": true,
    "ExecuteTime": {
     "end_time": "2025-10-18T20:25:51.105377Z",
     "start_time": "2025-10-18T20:25:51.102891Z"
    }
   },
   "cell_type": "code",
   "source": [
    "def scalar_multiply(matrix: list[list[int|float]], scalar: int|float) -> list[list[int|float]]:\n",
    "    \n",
    "    result = []\n",
    "    \n",
    "    for row in matrix:\n",
    "        new_row = []\n",
    "        for element in row:\n",
    "            new_row.append(element * scalar)\n",
    "        result.append(new_row)\n",
    "            \n",
    "    return result"
   ],
   "id": "initial_id",
   "outputs": [],
   "execution_count": 2
  },
  {
   "metadata": {
    "ExecuteTime": {
     "end_time": "2025-10-18T20:25:51.404702Z",
     "start_time": "2025-10-18T20:25:51.400738Z"
    }
   },
   "cell_type": "code",
   "source": "scalar_multiply([[1, 5, 3], [4, 5, 6], [7, 8, 9]], 5)",
   "id": "9590919e241f7a4e",
   "outputs": [
    {
     "data": {
      "text/plain": [
       "[[5, 25, 15], [20, 25, 30], [35, 40, 45]]"
      ]
     },
     "execution_count": 3,
     "metadata": {},
     "output_type": "execute_result"
    }
   ],
   "execution_count": 3
  }
 ],
 "metadata": {
  "kernelspec": {
   "display_name": "Python 3",
   "language": "python",
   "name": "python3"
  },
  "language_info": {
   "codemirror_mode": {
    "name": "ipython",
    "version": 2
   },
   "file_extension": ".py",
   "mimetype": "text/x-python",
   "name": "python",
   "nbconvert_exporter": "python",
   "pygments_lexer": "ipython2",
   "version": "2.7.6"
  }
 },
 "nbformat": 4,
 "nbformat_minor": 5
}
