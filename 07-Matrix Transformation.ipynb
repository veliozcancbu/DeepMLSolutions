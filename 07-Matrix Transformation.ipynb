{
 "cells": [
  {
   "metadata": {},
   "cell_type": "code",
   "outputs": [],
   "execution_count": null,
   "source": [
    "\"\"\"\n",
    "Write a Python function that transforms a given matrix A using the operation T^(-1)AS,\n",
    " where T and S are invertible matrices. The function should first validate if the matrices T and S are invertible, and then perform the transformation. In cases where there is no solution return -1\n",
    "\n",
    "Example:\n",
    "Input:\n",
    "A = [[1, 2], [3, 4]], T = [[2, 0], [0, 2]], S = [[1, 1], [0, 1]]\n",
    "Output:\n",
    "[[0.5,1.5],[1.5,3.5]]\n",
    "Reasoning:\n",
    "The matrices T and S are used to transform matrix A by computing T^(-1)AS\n",
    "\"\"\""
   ],
   "id": "89e22cea64ff7b8f"
  },
  {
   "metadata": {
    "collapsed": true,
    "ExecuteTime": {
     "end_time": "2025-10-19T20:43:49.790758Z",
     "start_time": "2025-10-19T20:43:49.353326Z"
    }
   },
   "cell_type": "code",
   "outputs": [],
   "execution_count": 1,
   "source": [
    "import numpy as np\n",
    "\n",
    "def transform_matrix(A: list[list[int | float]], \n",
    "                     T: list[list[int | float]], \n",
    "                     S: list[list[int | float]]) -> list[list[int | float]]:\n",
    "    \n",
    "    A = np.array(A, dtype=float)\n",
    "    T = np.array(T, dtype=float)\n",
    "    S = np.array(S, dtype=float)\n",
    "    \n",
    "    if np.linalg.det(T) == 0 or np.linalg.det(S) == 0:\n",
    "        return -1\n",
    "    \n",
    "    T_inv = np.linalg.inv(T)\n",
    "    transformed = T_inv @ A @ S\n",
    "    \n",
    "    return transformed.tolist()"
   ],
   "id": "initial_id"
  },
  {
   "metadata": {
    "ExecuteTime": {
     "end_time": "2025-10-19T20:44:34.829739Z",
     "start_time": "2025-10-19T20:44:34.818202Z"
    }
   },
   "cell_type": "code",
   "outputs": [
    {
     "data": {
      "text/plain": [
       "[[0.5, 1.5], [1.5, 3.5]]"
      ]
     },
     "execution_count": 2,
     "metadata": {},
     "output_type": "execute_result"
    }
   ],
   "execution_count": 2,
   "source": [
    "A = [[1, 2], [3, 4]]\n",
    "T = [[2, 0], [0, 2]]\n",
    "S = [[1, 1], [0, 1]]\n",
    "\n",
    "transform_matrix(A, T, S)"
   ],
   "id": "5318b673768f3181"
  }
 ],
 "metadata": {
  "kernelspec": {
   "display_name": "Python 3",
   "language": "python",
   "name": "python3"
  },
  "language_info": {
   "codemirror_mode": {
    "name": "ipython",
    "version": 2
   },
   "file_extension": ".py",
   "mimetype": "text/x-python",
   "name": "python",
   "nbconvert_exporter": "python",
   "pygments_lexer": "ipython2",
   "version": "2.7.6"
  }
 },
 "nbformat": 4,
 "nbformat_minor": 5
}
