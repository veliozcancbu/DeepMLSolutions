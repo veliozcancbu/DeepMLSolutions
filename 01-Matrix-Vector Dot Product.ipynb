{
 "cells": [
  {
   "metadata": {},
   "cell_type": "code",
   "outputs": [],
   "execution_count": null,
   "source": [
    "\"\"\"\n",
    "Write a Python function that computes the dot product of a matrix and a vector. The function should return a list representing the resulting vector if the operation is valid, or -1 if the matrix and vector dimensions are incompatible. A matrix (a list of lists) can be dotted with a vector (a list) only if the number of columns in the matrix equals the length of the vector. For example, an n x m matrix requires a vector of length m.\n",
    "\n",
    "Example:\n",
    "Input:\n",
    "a = [[1, 2], [2, 4]], b = [1, 2]\n",
    "Output:\n",
    "[5, 10]\n",
    "Reasoning:\n",
    "Row 1: (1 * 1) + (2 * 2) = 1 + 4 = 5; Row 2: (1 * 2) + (2 * 4) = 2 + 8 = 10\n",
    "\"\"\""
   ],
   "id": "147218238bab1c73"
  },
  {
   "metadata": {
    "collapsed": true,
    "ExecuteTime": {
     "end_time": "2025-10-18T12:12:12.797135Z",
     "start_time": "2025-10-18T12:12:12.789282Z"
    }
   },
   "cell_type": "code",
   "outputs": [],
   "execution_count": 2,
   "source": [
    "def matrix_dot_vector(a: list[list[int|float]], b: list[int|float]) -> list[int|float]:\n",
    "    \n",
    "    if not a:\n",
    "        return []\n",
    "\n",
    "    len_a_cols = len(a[0])\n",
    "    len_vec_b = len(b)\n",
    "\n",
    "    if len_a_cols != len_vec_b:\n",
    "        return -1\n",
    "\n",
    "    res = []\n",
    "\n",
    "    for row in a:\n",
    "        dot_product_val = 0\n",
    "        for i in range(len(row)):\n",
    "            dot_product_val += row[i] * b[i]\n",
    "\n",
    "        res.append(dot_product_val)\n",
    "\n",
    "    return res"
   ],
   "id": "initial_id"
  },
  {
   "metadata": {
    "ExecuteTime": {
     "end_time": "2025-10-18T12:18:52.112555Z",
     "start_time": "2025-10-18T12:18:52.105375Z"
    }
   },
   "cell_type": "code",
   "source": [
    "a = [[1, 2], [2, 4]]\n",
    "b = [1, 2]\n",
    "\n",
    "matrix_dot_vector(a,b)"
   ],
   "id": "8dcab81183ac047e",
   "outputs": [
    {
     "data": {
      "text/plain": [
       "[5, 10]"
      ]
     },
     "execution_count": 6,
     "metadata": {},
     "output_type": "execute_result"
    }
   ],
   "execution_count": 6
  },
  {
   "metadata": {},
   "cell_type": "code",
   "outputs": [],
   "execution_count": null,
   "source": "",
   "id": "f89a163f3de5ac8"
  }
 ],
 "metadata": {
  "kernelspec": {
   "display_name": "Python 3",
   "language": "python",
   "name": "python3"
  },
  "language_info": {
   "codemirror_mode": {
    "name": "ipython",
    "version": 2
   },
   "file_extension": ".py",
   "mimetype": "text/x-python",
   "name": "python",
   "nbconvert_exporter": "python",
   "pygments_lexer": "ipython2",
   "version": "2.7.6"
  }
 },
 "nbformat": 4,
 "nbformat_minor": 5
}
