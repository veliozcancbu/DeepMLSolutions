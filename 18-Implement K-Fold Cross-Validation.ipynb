{
 "cells": [
  {
   "cell_type": "code",
   "execution_count": null,
   "id": "initial_id",
   "metadata": {
    "collapsed": true
   },
   "outputs": [],
   "source": [
    "\"\"\"\n",
    "Implement a function to generate train and test splits for K-Fold Cross-Validation. Your task is to divide the dataset into k folds and return a list of train-test indices for each fold.\n",
    "\n",
    "Example:\n",
    "Input:\n",
    "k_fold_cross_validation(np.array([0,1,2,3,4,5,6,7,8,9]), np.array([0,1,2,3,4,5,6,7,8,9]), k=5, shuffle=False)\n",
    "Output:\n",
    "[([2, 3, 4, 5, 6, 7, 8, 9], [0, 1]), ([0, 1, 4, 5, 6, 7, 8, 9], [2, 3]), ([0, 1, 2, 3, 6, 7, 8, 9], [4, 5]), ([0, 1, 2, 3, 4, 5, 8, 9], [6, 7]), ([0, 1, 2, 3, 4, 5, 6, 7], [8, 9])]\n",
    "Reasoning:\n",
    "The function splits the dataset into 5 folds without shuffling and returns train-test splits for each iteration.\n",
    "\"\"\""
   ]
  },
  {
   "metadata": {
    "ExecuteTime": {
     "end_time": "2025-10-28T12:54:42.964587Z",
     "start_time": "2025-10-28T12:54:42.960198Z"
    }
   },
   "cell_type": "code",
   "source": [
    "import numpy as np\n",
    "\n",
    "def k_fold_cross_validation(X: np.ndarray, y: np.ndarray, k=5, shuffle=True):\n",
    "\n",
    "    n = len(X)\n",
    "    indices = np.arange(n)\n",
    "\n",
    "    if shuffle:\n",
    "        np.random.shuffle(indices)\n",
    "\n",
    "    fold_indices = np.array_split(indices, k)\n",
    "    folds = []\n",
    "    \n",
    "    for i in range(k):\n",
    "        test_idx = fold_indices[i]\n",
    "        train_idx_parts = [fold_indices[j] for j in range(k) if j != i]\n",
    "        train_idx = np.concatenate(train_idx_parts)\n",
    "        folds.append((train_idx.tolist(), test_idx.tolist()))\n",
    "\n",
    "    return folds"
   ],
   "id": "33bc244589b2d91",
   "outputs": [],
   "execution_count": 3
  },
  {
   "metadata": {
    "ExecuteTime": {
     "end_time": "2025-10-28T12:54:43.429042Z",
     "start_time": "2025-10-28T12:54:43.424926Z"
    }
   },
   "cell_type": "code",
   "source": "k_fold_cross_validation(np.array([0,1,2,3,4,5,6,7,8,9]), np.array([0,1,2,3,4,5,6,7,8,9]), k=5, shuffle=False)",
   "id": "730cee12be26d645",
   "outputs": [
    {
     "data": {
      "text/plain": [
       "[([2, 3, 4, 5, 6, 7, 8, 9], [0, 1]),\n",
       " ([0, 1, 4, 5, 6, 7, 8, 9], [2, 3]),\n",
       " ([0, 1, 2, 3, 6, 7, 8, 9], [4, 5]),\n",
       " ([0, 1, 2, 3, 4, 5, 8, 9], [6, 7]),\n",
       " ([0, 1, 2, 3, 4, 5, 6, 7], [8, 9])]"
      ]
     },
     "execution_count": 4,
     "metadata": {},
     "output_type": "execute_result"
    }
   ],
   "execution_count": 4
  },
  {
   "metadata": {
    "ExecuteTime": {
     "end_time": "2025-10-28T12:55:20.850458Z",
     "start_time": "2025-10-28T12:55:19.406009Z"
    }
   },
   "cell_type": "code",
   "source": "k_fold_cross_validation(np.array([0,1,2,3,4,5,6,7,8,9]), np.array([0,1,2,3,4,5,6,7,8,9]), k=2, shuffle=True)",
   "id": "f82ce69d9723adca",
   "outputs": [
    {
     "data": {
      "text/plain": [
       "[([7, 2, 6, 5, 4], [0, 1, 3, 9, 8]), ([0, 1, 3, 9, 8], [7, 2, 6, 5, 4])]"
      ]
     },
     "execution_count": 5,
     "metadata": {},
     "output_type": "execute_result"
    }
   ],
   "execution_count": 5
  }
 ],
 "metadata": {
  "kernelspec": {
   "display_name": "Python 3",
   "language": "python",
   "name": "python3"
  },
  "language_info": {
   "codemirror_mode": {
    "name": "ipython",
    "version": 2
   },
   "file_extension": ".py",
   "mimetype": "text/x-python",
   "name": "python",
   "nbconvert_exporter": "python",
   "pygments_lexer": "ipython2",
   "version": "2.7.6"
  }
 },
 "nbformat": 4,
 "nbformat_minor": 5
}
