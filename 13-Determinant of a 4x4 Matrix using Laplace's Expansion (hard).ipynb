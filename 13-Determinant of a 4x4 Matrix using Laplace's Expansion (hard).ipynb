{
 "cells": [
  {
   "cell_type": "code",
   "execution_count": null,
   "id": "initial_id",
   "metadata": {
    "collapsed": true
   },
   "outputs": [],
   "source": [
    "\"\"\"\n",
    "Write a Python function that calculates the determinant of a 4x4 matrix using Laplace's Expansion method. The function should take a single argument, a 4x4 matrix represented as a list of lists, and return the determinant of the matrix. The elements of the matrix can be integers or floating-point numbers. Implement the function recursively to handle the computation of determinants for the 3x3 minor matrices.\n",
    "\n",
    "Example:\n",
    "Input:\n",
    "a = [[1,2,3,4],[5,6,7,8],[9,10,11,12],[13,14,15,16]]\n",
    "Output:\n",
    "0\n",
    "Reasoning:\n",
    "Using Laplace's Expansion, the determinant of a 4x4 matrix is calculated by expanding it into minors and cofactors along any row or column. Given the symmetrical and linear nature of this specific matrix, its determinant is 0. The calculation for a generic 4x4 matrix involves more complex steps, breaking it down into the determinants of 3x3 matrices.\n",
    "\"\"\""
   ]
  },
  {
   "metadata": {
    "ExecuteTime": {
     "end_time": "2025-10-23T12:36:36.619948Z",
     "start_time": "2025-10-23T12:36:36.615268Z"
    }
   },
   "cell_type": "code",
   "source": [
    "def determinant_4x4(matrix: list[list[int | float]]) -> float:\n",
    "    n = len(matrix)\n",
    "    \n",
    "    if n == 2:\n",
    "        return matrix[0][0]*matrix[1][1] - matrix[0][1]*matrix[1][0]\n",
    "\n",
    "    if n == 3:\n",
    "        a, b, c = matrix[0]\n",
    "        d, e, f = matrix[1]\n",
    "        g, h, i = matrix[2]\n",
    "        return (\n",
    "            a*(e*i - f*h)\n",
    "            - b*(d*i - f*g)\n",
    "            + c*(d*h - e*g)\n",
    "        )\n",
    "\n",
    "    determinant = 0\n",
    "    for col in range(n):\n",
    "        minor = []\n",
    "        for row in matrix[1:]:\n",
    "            minor.append(row[:col] + row[col+1:])\n",
    "        sign = (-1) ** col\n",
    "        determinant += sign * matrix[0][col] * determinant_4x4(minor)\n",
    "\n",
    "    return determinant"
   ],
   "id": "aef53bac8072f3c5",
   "outputs": [],
   "execution_count": 1
  },
  {
   "metadata": {
    "ExecuteTime": {
     "end_time": "2025-10-23T12:36:39.317140Z",
     "start_time": "2025-10-23T12:36:39.315087Z"
    }
   },
   "cell_type": "code",
   "source": [
    "a = [[1,2,3,4],[5,6,7,8], [9,10,11,12],[13,14,15,16]]\n",
    "print(determinant_4x4(a))"
   ],
   "id": "7e014afb65ae59c4",
   "outputs": [
    {
     "name": "stdout",
     "output_type": "stream",
     "text": [
      "0\n"
     ]
    }
   ],
   "execution_count": 2
  }
 ],
 "metadata": {
  "kernelspec": {
   "display_name": "Python 3",
   "language": "python",
   "name": "python3"
  },
  "language_info": {
   "codemirror_mode": {
    "name": "ipython",
    "version": 2
   },
   "file_extension": ".py",
   "mimetype": "text/x-python",
   "name": "python",
   "nbconvert_exporter": "python",
   "pygments_lexer": "ipython2",
   "version": "2.7.6"
  }
 },
 "nbformat": 4,
 "nbformat_minor": 5
}
