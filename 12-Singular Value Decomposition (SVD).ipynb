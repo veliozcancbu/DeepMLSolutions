{
 "cells": [
  {
   "cell_type": "code",
   "id": "initial_id",
   "metadata": {
    "collapsed": true
   },
   "source": [
    "\"\"\"\n",
    "Write a Python function called svd_2x2_singular_values(A) that finds an approximate singular value decomposition of a real 2 x 2 matrix using one Jacobi rotation. Input A: a NumPy array of shape (2, 2)\n",
    "\n",
    "Rules You may use basic NumPy operations (matrix multiplication, transpose, element wise math, etc.). Do not call numpy.linalg.svd or any other high-level SVD routine. Stick to a single Jacobi step no iterative refinements.\n",
    "\n",
    "Return A tuple (U, Î£, V_T) where U is a 2 x 2 orthogonal matrix, Î£ is a length 2 NumPy array containing the singular values, and V_T is the transpose of the right-singular-vector matrix V.\n",
    "\n",
    "Example:\n",
    "Input:\n",
    "a = [[2, 1], [1, 2]]\n",
    "Output:\n",
    "(array([[-0.70710678, -0.70710678],\n",
    "                        [-0.70710678,  0.70710678]]),\n",
    "        array([3., 1.]),\n",
    "        array([[-0.70710678, -0.70710678],\n",
    "               [-0.70710678,  0.70710678]]))\n",
    "Reasoning:\n",
    "U is the first matrix sigma is the second vector and V is the third matrix\n",
    "\"\"\""
   ],
   "outputs": [],
   "execution_count": null
  },
  {
   "metadata": {
    "ExecuteTime": {
     "end_time": "2025-10-22T16:31:13.889123Z",
     "start_time": "2025-10-22T16:31:13.883808Z"
    }
   },
   "cell_type": "code",
   "source": [
    "import numpy as np\n",
    "\n",
    "def svd_2x2_singular_values(A: np.ndarray) -> tuple:\n",
    "    S = A.T @ A\n",
    "    s11, s12, s22 = S[0, 0], S[0, 1], S[1, 1]\n",
    "    theta = 0.5 * np.arctan2(2 * s12, s11 - s22)\n",
    "\n",
    "    c, s = np.cos(theta), np.sin(theta)\n",
    "    V = np.array([[c, -s], [s, c]])\n",
    "\n",
    "    D_diag = np.diag(V.T @ S @ V)\n",
    "    Sigma = np.sqrt(np.maximum(0.0, D_diag))\n",
    "\n",
    "    if Sigma[0] < Sigma[1]:\n",
    "        Sigma = np.flip(Sigma)\n",
    "        V = np.flip(V, axis=1)\n",
    "\n",
    "    Sigma_inv = np.diag([1/x if x > 1e-9 else 0.0 for x in Sigma])\n",
    "    U = A @ V @ Sigma_inv\n",
    "\n",
    "    for i in range(2):\n",
    "        n = np.linalg.norm(U[:, i])\n",
    "        if n > 1e-9:\n",
    "            U[:, i] /= n\n",
    "\n",
    "    return (U, Sigma, V.T)"
   ],
   "id": "c3677695b1d39813",
   "outputs": [],
   "execution_count": 11
  },
  {
   "metadata": {
    "ExecuteTime": {
     "end_time": "2025-10-22T16:31:14.743634Z",
     "start_time": "2025-10-22T16:31:14.739635Z"
    }
   },
   "cell_type": "code",
   "source": [
    "a = np.array([[2, 1], [1, 2]])\n",
    "svd_2x2_singular_values(a)"
   ],
   "id": "bbdeaf3a0b5f36b5",
   "outputs": [
    {
     "data": {
      "text/plain": [
       "(array([[ 0.70710678, -0.70710678],\n",
       "        [ 0.70710678,  0.70710678]]),\n",
       " array([3., 1.]),\n",
       " array([[ 0.70710678,  0.70710678],\n",
       "        [-0.70710678,  0.70710678]]))"
      ]
     },
     "execution_count": 12,
     "metadata": {},
     "output_type": "execute_result"
    }
   ],
   "execution_count": 12
  }
 ],
 "metadata": {
  "kernelspec": {
   "display_name": "Python 3",
   "language": "python",
   "name": "python3"
  },
  "language_info": {
   "codemirror_mode": {
    "name": "ipython",
    "version": 2
   },
   "file_extension": ".py",
   "mimetype": "text/x-python",
   "name": "python",
   "nbconvert_exporter": "python",
   "pygments_lexer": "ipython2",
   "version": "2.7.6"
  }
 },
 "nbformat": 4,
 "nbformat_minor": 5
}
