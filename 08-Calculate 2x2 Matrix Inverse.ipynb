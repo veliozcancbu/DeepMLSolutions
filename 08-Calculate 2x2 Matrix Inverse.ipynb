{
 "cells": [
  {
   "cell_type": "code",
   "execution_count": null,
   "id": "initial_id",
   "metadata": {
    "collapsed": true
   },
   "outputs": [],
   "source": [
    "\"\"\"\n",
    "Write a Python function that calculates the inverse of a 2x2 matrix. Return 'None' if the matrix is not invertible.\n",
    "\n",
    "Example:\n",
    "Input:\n",
    "matrix = [[4, 7], [2, 6]]\n",
    "Output:\n",
    "[[0.6, -0.7], [-0.2, 0.4]]\n",
    "Reasoning:\n",
    "The inverse of a 2x2 matrix [a, b], [c, d] is given by (1/(ad-bc)) * [d, -b], [-c, a], provided ad-bc is not zero.\n",
    "\"\"\""
   ]
  },
  {
   "metadata": {
    "ExecuteTime": {
     "end_time": "2025-10-20T10:37:14.823613Z",
     "start_time": "2025-10-20T10:37:14.819887Z"
    }
   },
   "cell_type": "code",
   "source": [
    "# NumPy\n",
    "def inverse_2x2(matrix: list[list[float]]) -> list[list[float]]:\n",
    "    a = matrix[0][0]\n",
    "    b = matrix[0][1]\n",
    "    c = matrix[1][0]\n",
    "    d = matrix[1][1]\n",
    "    \n",
    "    determinant = a * d - b * c\n",
    "    \n",
    "    if determinant == 0:\n",
    "        return None \n",
    "    \n",
    "    inverse = [[d / determinant, -b / determinant], [-c / determinant, a / determinant]]\n",
    "    \n",
    "    return inverse"
   ],
   "id": "8a1fcaf3dac9b2a9",
   "outputs": [],
   "execution_count": 2
  },
  {
   "metadata": {
    "ExecuteTime": {
     "end_time": "2025-10-20T10:37:24.216787Z",
     "start_time": "2025-10-20T10:37:24.213457Z"
    }
   },
   "cell_type": "code",
   "source": "inverse_2x2([[4, 7], [2, 6]])",
   "id": "afcc4174eabe8279",
   "outputs": [
    {
     "data": {
      "text/plain": [
       "[[0.6, -0.7], [-0.2, 0.4]]"
      ]
     },
     "execution_count": 3,
     "metadata": {},
     "output_type": "execute_result"
    }
   ],
   "execution_count": 3
  },
  {
   "metadata": {
    "ExecuteTime": {
     "end_time": "2025-10-20T10:42:16.169775Z",
     "start_time": "2025-10-20T10:42:16.164967Z"
    }
   },
   "cell_type": "code",
   "source": [
    "# PyTorch\n",
    "\n",
    "#!pip install torch\n",
    "import torch\n",
    "\n",
    "def inverse_2x2_t(matrix) -> torch.Tensor | None:\n",
    "    m = torch.as_tensor(matrix, dtype=torch.float)\n",
    "\n",
    "    determinant = m[0, 0] * m[1, 1] - m[0, 1] * m[1, 0]\n",
    "\n",
    "    if determinant == 0:\n",
    "        return None\n",
    "\n",
    "    inv = (1.0 / determinant) * torch.tensor([[m[1, 1], -m[0, 1]],[-m[1, 0], m[0, 0]]], dtype=torch.float)\n",
    "\n",
    "    return inv"
   ],
   "id": "e314ad9538eb5efc",
   "outputs": [],
   "execution_count": 7
  },
  {
   "metadata": {
    "ExecuteTime": {
     "end_time": "2025-10-20T10:42:42.167451Z",
     "start_time": "2025-10-20T10:42:42.164271Z"
    }
   },
   "cell_type": "code",
   "source": "print(inverse_2x2_t([[4, 7], [2, 6]]))",
   "id": "7614997eae4ec4f4",
   "outputs": [
    {
     "name": "stdout",
     "output_type": "stream",
     "text": [
      "tensor([[ 0.6000, -0.7000],\n",
      "        [-0.2000,  0.4000]])\n"
     ]
    }
   ],
   "execution_count": 9
  }
 ],
 "metadata": {
  "kernelspec": {
   "display_name": "Python 3",
   "language": "python",
   "name": "python3"
  },
  "language_info": {
   "codemirror_mode": {
    "name": "ipython",
    "version": 2
   },
   "file_extension": ".py",
   "mimetype": "text/x-python",
   "name": "python",
   "nbconvert_exporter": "python",
   "pygments_lexer": "ipython2",
   "version": "2.7.6"
  }
 },
 "nbformat": 4,
 "nbformat_minor": 5
}
