{
 "cells": [
  {
   "cell_type": "code",
   "execution_count": null,
   "id": "initial_id",
   "metadata": {
    "collapsed": true
   },
   "outputs": [],
   "source": [
    "\"\"\"\n",
    "Write a Python function that calculates the eigenvalues of a 2x2 matrix. The function should return a list containing the eigenvalues, sort values from highest to lowest.\n",
    "\n",
    "Example:\n",
    "Input:\n",
    "matrix = [[2, 1], [1, 2]]\n",
    "Output:\n",
    "[3.0, 1.0]\n",
    "\"\"\""
   ]
  },
  {
   "metadata": {
    "ExecuteTime": {
     "end_time": "2025-10-18T22:49:16.365609Z",
     "start_time": "2025-10-18T22:49:16.361288Z"
    }
   },
   "cell_type": "code",
   "source": [
    "import math\n",
    "\n",
    "def calculate_eigenvalues(matrix: list[list[float|int]]) -> list[float]:\n",
    "    \n",
    "    a, b = matrix[0]\n",
    "    c, d = matrix[1]\n",
    "    \n",
    "    trace = a + d\n",
    "    determinant = a * d - b * c\n",
    "    \n",
    "    discriminant = trace**2 - 4 * determinant\n",
    "    if discriminant < 0:\n",
    "        return []\n",
    "    \n",
    "    sqrt_discriminant = math.sqrt(discriminant)\n",
    "    \n",
    "    eigenvalue1 = (trace + sqrt_discriminant) / 2\n",
    "    eigenvalue2 = (trace - sqrt_discriminant) / 2\n",
    "    \n",
    "    return [eigenvalue1, eigenvalue2]"
   ],
   "id": "a9c79bee3c6963be",
   "outputs": [],
   "execution_count": 1
  },
  {
   "metadata": {
    "ExecuteTime": {
     "end_time": "2025-10-18T22:49:24.341133Z",
     "start_time": "2025-10-18T22:49:24.337334Z"
    }
   },
   "cell_type": "code",
   "source": "calculate_eigenvalues(matrix=[[2, 1], [1, 2]])",
   "id": "6987f1745c90c4df",
   "outputs": [
    {
     "data": {
      "text/plain": [
       "[3.0, 1.0]"
      ]
     },
     "execution_count": 2,
     "metadata": {},
     "output_type": "execute_result"
    }
   ],
   "execution_count": 2
  }
 ],
 "metadata": {
  "kernelspec": {
   "display_name": "Python 3",
   "language": "python",
   "name": "python3"
  },
  "language_info": {
   "codemirror_mode": {
    "name": "ipython",
    "version": 2
   },
   "file_extension": ".py",
   "mimetype": "text/x-python",
   "name": "python",
   "nbconvert_exporter": "python",
   "pygments_lexer": "ipython2",
   "version": "2.7.6"
  }
 },
 "nbformat": 4,
 "nbformat_minor": 5
}
