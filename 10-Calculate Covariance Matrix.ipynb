{
 "cells": [
  {
   "cell_type": "code",
   "execution_count": null,
   "id": "initial_id",
   "metadata": {
    "collapsed": true
   },
   "outputs": [],
   "source": [
    "\"\"\"\n",
    "Write a Python function to calculate the covariance matrix for a given set of vectors. The function should take a list of lists, where each inner list represents a feature with its observations, and return a covariance matrix as a list of lists. Additionally, provide test cases to verify the correctness of your implementation.\n",
    "\n",
    "Example:\n",
    "Input:\n",
    "[[1, 2, 3], [4, 5, 6]]\n",
    "Output:\n",
    "[[1.0, 1.0], [1.0, 1.0]]\n",
    "Reasoning:\n",
    "The covariance between the two features is calculated based on their deviations from the mean. For the given vectors, both covariances are 1.0, resulting in a symmetric covariance matrix.\n",
    "\"\"\""
   ]
  },
  {
   "metadata": {
    "ExecuteTime": {
     "end_time": "2025-10-22T08:56:06.270242Z",
     "start_time": "2025-10-22T08:56:06.267141Z"
    }
   },
   "cell_type": "code",
   "source": [
    "# NumPy\n",
    "\n",
    "def calculate_covariance_matrix(vectors: list[list[float]]) -> list[list[float]]:\n",
    "    n_features = len(vectors)\n",
    "    n_obs = len(vectors[0])\n",
    "    \n",
    "    means = [sum(v) / n_obs for v in vectors]\n",
    "    \n",
    "    centered = [[v[k] - means[i] for k in range(n_obs)] for i, v in enumerate(vectors)]\n",
    "    \n",
    "    result = [[0.0] * n_features for _ in range(n_features)]\n",
    "    inv = 1.0 / (n_obs - 1)\n",
    "    \n",
    "    for i in range(n_features):\n",
    "        for j in range(n_features):\n",
    "            s = 0.0\n",
    "            ci, cj = centered[i], centered[j]\n",
    "            for k in range(n_obs):\n",
    "                s += ci[k] * cj[k]\n",
    "            result[i][j] = s * inv\n",
    "    return result"
   ],
   "id": "f93cf011b24c3a3",
   "outputs": [],
   "execution_count": 2
  },
  {
   "metadata": {
    "ExecuteTime": {
     "end_time": "2025-10-22T08:56:06.571261Z",
     "start_time": "2025-10-22T08:56:06.568630Z"
    }
   },
   "cell_type": "code",
   "source": [
    "vectors = [[1, 2, 3], [4, 5, 6]]\n",
    "calculated_covariance = calculate_covariance_matrix(vectors)\n",
    "print(calculated_covariance)"
   ],
   "id": "fd04ba2155e940d1",
   "outputs": [
    {
     "name": "stdout",
     "output_type": "stream",
     "text": [
      "[[1.0, 1.0], [1.0, 1.0]]\n"
     ]
    }
   ],
   "execution_count": 3
  },
  {
   "metadata": {
    "ExecuteTime": {
     "end_time": "2025-10-22T08:57:21.047565Z",
     "start_time": "2025-10-22T08:57:19.721814Z"
    }
   },
   "cell_type": "code",
   "source": [
    "# PyTorch\n",
    "\n",
    "import torch\n",
    "\n",
    "def calculate_covariance_matrix_t(vectors) -> torch.Tensor:\n",
    "    v_t = torch.as_tensor(vectors, dtype=torch.float)\n",
    "    n = v_t.size(1)\n",
    "\n",
    "    mean = v_t.mean(dim=1, keepdim=True)\n",
    "    centered = v_t - mean\n",
    "\n",
    "    cov = centered @ centered.T / (n - 1)\n",
    "\n",
    "    return cov"
   ],
   "id": "2e5443a50ddf04ba",
   "outputs": [],
   "execution_count": 4
  },
  {
   "metadata": {
    "ExecuteTime": {
     "end_time": "2025-10-22T08:57:32.277254Z",
     "start_time": "2025-10-22T08:57:32.241240Z"
    }
   },
   "cell_type": "code",
   "source": [
    "vectors = [[1, 2, 3], [4, 5, 6]]\n",
    "calculated_covariance_t = calculate_covariance_matrix_t(vectors)\n",
    "print(calculated_covariance_t)"
   ],
   "id": "fdf566efa7f47a64",
   "outputs": [
    {
     "name": "stdout",
     "output_type": "stream",
     "text": [
      "tensor([[1., 1.],\n",
      "        [1., 1.]])\n"
     ]
    }
   ],
   "execution_count": 5
  }
 ],
 "metadata": {
  "kernelspec": {
   "display_name": "Python 3",
   "language": "python",
   "name": "python3"
  },
  "language_info": {
   "codemirror_mode": {
    "name": "ipython",
    "version": 2
   },
   "file_extension": ".py",
   "mimetype": "text/x-python",
   "name": "python",
   "nbconvert_exporter": "python",
   "pygments_lexer": "ipython2",
   "version": "2.7.6"
  }
 },
 "nbformat": 4,
 "nbformat_minor": 5
}
