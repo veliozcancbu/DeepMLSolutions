{
 "cells": [
  {
   "cell_type": "code",
   "id": "initial_id",
   "metadata": {
    "collapsed": true
   },
   "source": [
    "\"\"\"\n",
    "Write a Python function that uses the Jacobi method to solve a system of linear equations given by Ax = b. The function should iterate n times, rounding each intermediate solution to four decimal places, and return the approximate solution x.\n",
    "\n",
    "Example:\n",
    "Input:\n",
    "A = [[5, -2, 3], [-3, 9, 1], [2, -1, -7]], b = [-1, 2, 3], n=2\n",
    "Output:\n",
    "[0.146, 0.2032, -0.5175]\n",
    "Reasoning:\n",
    "The Jacobi method iteratively solves each equation for x[i] using the formula x[i] = (1/a_ii) * (b[i] - sum(a_ij * x[j] for j != i)), where a_ii is the diagonal element of A and a_ij are the off-diagonal elements.\n",
    "\"\"\""
   ],
   "outputs": [],
   "execution_count": null
  },
  {
   "metadata": {
    "ExecuteTime": {
     "end_time": "2025-10-22T09:40:39.542278Z",
     "start_time": "2025-10-22T09:40:39.487127Z"
    }
   },
   "cell_type": "code",
   "source": [
    "# NumPy\n",
    "\n",
    "import numpy as np\n",
    "\n",
    "def solve_jacobi(A: np.ndarray, b: np.ndarray, n: int) -> list:\n",
    "    m = len(b)\n",
    "\n",
    "    x = np.zeros(m)\n",
    "    D = np.diag(A)\n",
    "    R = A - np.diagflat(D)\n",
    "    \n",
    "    for i in range(n):\n",
    "        x = (b - np.dot(R, x)) / D\n",
    "        x = np.round(x, 4)\n",
    "        \n",
    "    return x.tolist()"
   ],
   "id": "644cd16ae7ecf870",
   "outputs": [],
   "execution_count": 2
  },
  {
   "metadata": {
    "ExecuteTime": {
     "end_time": "2025-10-22T09:41:09.102454Z",
     "start_time": "2025-10-22T09:41:09.098865Z"
    }
   },
   "cell_type": "code",
   "source": [
    "A = [[5, -2, 3], [-3, 9, 1], [2, -1, -7]]\n",
    "b = [-1, 2, 3]\n",
    "n=2\n",
    "solve_jacobi(A,b,n) "
   ],
   "id": "4540ad6b6e8b81bb",
   "outputs": [
    {
     "data": {
      "text/plain": [
       "[0.146, 0.2032, -0.5175]"
      ]
     },
     "execution_count": 3,
     "metadata": {},
     "output_type": "execute_result"
    }
   ],
   "execution_count": 3
  },
  {
   "metadata": {
    "ExecuteTime": {
     "end_time": "2025-10-22T09:56:07.459778Z",
     "start_time": "2025-10-22T09:56:05.950712Z"
    }
   },
   "cell_type": "code",
   "source": [
    "# PyTorch\n",
    "\n",
    "import torch\n",
    "\n",
    "def solve_jacobi_t(A, b, n) -> torch.Tensor:\n",
    "    A_t = torch.as_tensor(A, dtype=torch.float32)\n",
    "    b_t = torch.as_tensor(b, dtype=torch.float32)\n",
    "\n",
    "    m = len(b_t)\n",
    "    x = torch.zeros(m)\n",
    "    D = torch.diag(A_t)\n",
    "    R = A_t - torch.diag(D)\n",
    "    \n",
    "    for i in range(n):\n",
    "        x = (b_t - R @ x) / D\n",
    "        x = torch.round(x, decimals=4)\n",
    "\n",
    "    return x"
   ],
   "id": "76786719fad59fdd",
   "outputs": [],
   "execution_count": 4
  },
  {
   "metadata": {
    "ExecuteTime": {
     "end_time": "2025-10-22T09:56:07.489370Z",
     "start_time": "2025-10-22T09:56:07.463372Z"
    }
   },
   "cell_type": "code",
   "source": [
    "A = [[5, -2, 3], [-3, 9, 1], [2, -1, -7]]\n",
    "b = [-1, 2, 3]\n",
    "n=2\n",
    "solve_jacobi_t(A,b,n) "
   ],
   "id": "727de4448c686e0",
   "outputs": [
    {
     "data": {
      "text/plain": [
       "tensor([ 0.1460,  0.2032, -0.5175])"
      ]
     },
     "execution_count": 5,
     "metadata": {},
     "output_type": "execute_result"
    }
   ],
   "execution_count": 5
  }
 ],
 "metadata": {
  "kernelspec": {
   "display_name": "Python 3",
   "language": "python",
   "name": "python3"
  },
  "language_info": {
   "codemirror_mode": {
    "name": "ipython",
    "version": 2
   },
   "file_extension": ".py",
   "mimetype": "text/x-python",
   "name": "python",
   "nbconvert_exporter": "python",
   "pygments_lexer": "ipython2",
   "version": "2.7.6"
  }
 },
 "nbformat": 4,
 "nbformat_minor": 5
}
