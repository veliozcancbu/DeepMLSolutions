{
 "cells": [
  {
   "cell_type": "code",
   "execution_count": null,
   "id": "initial_id",
   "metadata": {
    "collapsed": true
   },
   "outputs": [],
   "source": [
    "\"\"\"\n",
    "Write a Python function that performs linear regression using the normal equation. The function should take a matrix X (features) and a vector y (target) as input, and return the coefficients of the linear regression model. Round your answer to four decimal places, -0.0 is a valid result for rounding a very small number.\n",
    "\n",
    "Example:\n",
    "Input:\n",
    "X = [[1, 1], [1, 2], [1, 3]], y = [1, 2, 3]\n",
    "Output:\n",
    "[0.0, 1.0]\n",
    "Reasoning:\n",
    "The linear model is y = 0.0 + 1.0*x, perfectly fitting the input data.\n",
    "\"\"\""
   ]
  },
  {
   "metadata": {
    "ExecuteTime": {
     "end_time": "2025-10-24T14:37:55.491801Z",
     "start_time": "2025-10-24T14:37:54.968555Z"
    }
   },
   "cell_type": "code",
   "source": [
    "#NumPy\n",
    "\n",
    "import numpy as np\n",
    "\n",
    "def linear_regression_normal_equation(X: list[list[float]], y: list[float]) -> list[float]:\n",
    "    X = np.asarray(X, dtype=float)\n",
    "    y = np.asarray(y, dtype=float).reshape(-1, 1)\n",
    "\n",
    "    theta = np.linalg.inv(X.T @ X) @ X.T @ y\n",
    "\n",
    "    theta = np.round(theta.flatten(), 4).tolist()\n",
    "\n",
    "    return theta"
   ],
   "id": "be59e7117461bfa2",
   "outputs": [],
   "execution_count": 1
  },
  {
   "metadata": {
    "ExecuteTime": {
     "end_time": "2025-10-24T14:37:57.557557Z",
     "start_time": "2025-10-24T14:37:57.551457Z"
    }
   },
   "cell_type": "code",
   "source": [
    "X = [[1, 1], [1, 2], [1, 3]]\n",
    "y = [1, 2, 3]\n",
    "theta = linear_regression_normal_equation(X, y)\n",
    "print(theta)"
   ],
   "id": "93894ee52232a72",
   "outputs": [
    {
     "name": "stdout",
     "output_type": "stream",
     "text": [
      "[-0.0, 1.0]\n"
     ]
    }
   ],
   "execution_count": 2
  },
  {
   "metadata": {
    "ExecuteTime": {
     "end_time": "2025-10-24T14:39:42.302456Z",
     "start_time": "2025-10-24T14:39:34.962141Z"
    }
   },
   "cell_type": "code",
   "source": [
    "#PyTorch\n",
    "\n",
    "import torch\n",
    "\n",
    "def linear_regression_normal_equation_t(X, y) -> torch.Tensor:\n",
    "    X_t = torch.as_tensor(X, dtype=torch.float)\n",
    "    y_t = torch.as_tensor(y, dtype=torch.float).reshape(-1, 1)\n",
    "    \n",
    "    theta = torch.inverse(X_t.T @ X_t) @ X_t.T @ y_t\n",
    "\n",
    "    theta = torch.round(theta.flatten() * 10000) / 10000\n",
    "\n",
    "    return theta"
   ],
   "id": "ba05e25797089dff",
   "outputs": [],
   "execution_count": 3
  },
  {
   "metadata": {
    "ExecuteTime": {
     "end_time": "2025-10-24T14:39:51.630757Z",
     "start_time": "2025-10-24T14:39:51.617391Z"
    }
   },
   "cell_type": "code",
   "source": [
    "X = [[1, 1], [1, 2], [1, 3]]\n",
    "y = [1, 2, 3]\n",
    "theta = linear_regression_normal_equation_t(X, y)\n",
    "print(theta)"
   ],
   "id": "28afe5417d729eb7",
   "outputs": [
    {
     "name": "stdout",
     "output_type": "stream",
     "text": [
      "tensor([0., 1.])\n"
     ]
    }
   ],
   "execution_count": 4
  }
 ],
 "metadata": {
  "kernelspec": {
   "display_name": "Python 3",
   "language": "python",
   "name": "python3"
  },
  "language_info": {
   "codemirror_mode": {
    "name": "ipython",
    "version": 2
   },
   "file_extension": ".py",
   "mimetype": "text/x-python",
   "name": "python",
   "nbconvert_exporter": "python",
   "pygments_lexer": "ipython2",
   "version": "2.7.6"
  }
 },
 "nbformat": 4,
 "nbformat_minor": 5
}
