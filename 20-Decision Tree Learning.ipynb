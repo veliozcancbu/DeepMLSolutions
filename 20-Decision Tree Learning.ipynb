{
 "cells": [
  {
   "metadata": {},
   "cell_type": "code",
   "outputs": [],
   "execution_count": null,
   "source": [
    "\"\"\"\n",
    "Write a Python function that implements the decision tree learning algorithm for classification. The function should use recursive binary splitting based on entropy and information gain to build a decision tree. It should take a list of examples (each example is a dict of attribute-value pairs) and a list of attribute names as input, and return a nested dictionary representing the decision tree.\n",
    "\n",
    "Example:\n",
    "Input:\n",
    "examples = [\n",
    "                    {'Outlook': 'Sunny', 'Temperature': 'Hot', 'Humidity': 'High', 'Wind': 'Weak', 'PlayTennis': 'No'},\n",
    "                    {'Outlook': 'Sunny', 'Temperature': 'Hot', 'Humidity': 'High', 'Wind': 'Strong', 'PlayTennis': 'No'},\n",
    "                    {'Outlook': 'Overcast', 'Temperature': 'Hot', 'Humidity': 'High', 'Wind': 'Weak', 'PlayTennis': 'Yes'},\n",
    "                    {'Outlook': 'Rain', 'Temperature': 'Mild', 'Humidity': 'High', 'Wind': 'Weak', 'PlayTennis': 'Yes'}\n",
    "                ],\n",
    "                attributes = ['Outlook', 'Temperature', 'Humidity', 'Wind']\n",
    "Output:\n",
    "{\n",
    "            'Outlook': {\n",
    "                'Sunny': {'Humidity': {'High': 'No', 'Normal': 'Yes'}},\n",
    "                'Overcast': 'Yes',\n",
    "                'Rain': {'Wind': {'Weak': 'Yes', 'Strong': 'No'}}\n",
    "            }\n",
    "        }\n",
    "Reasoning:\n",
    "Using the given examples, the decision tree algorithm determines that 'Outlook' is the best attribute to split the data initially. When 'Outlook' is 'Overcast', the outcome is always 'Yes', so it becomes a leaf node. In cases of 'Sunny' and 'Rain', it further splits based on 'Humidity' and 'Wind', respectively. The resulting tree structure is able to classify the training examples with the attributes 'Outlook', 'Temperature', 'Humidity', and 'Wind'.\n",
    "\"\"\""
   ],
   "id": "4ffbad26290a5d1a"
  },
  {
   "metadata": {
    "collapsed": true,
    "ExecuteTime": {
     "end_time": "2025-10-30T17:52:36.400207Z",
     "start_time": "2025-10-30T17:52:36.391705Z"
    }
   },
   "cell_type": "code",
   "source": [
    "import math\n",
    "from collections import Counter\n",
    "\n",
    "def entropy(examples: list[dict], target_attr: str) -> float:\n",
    "    counts = Counter(ex[target_attr] for ex in examples)\n",
    "    total_examples = len(examples)\n",
    "\n",
    "    if total_examples == 0:\n",
    "        return 0\n",
    "\n",
    "    ent = 0.0\n",
    "    for count in counts.values():\n",
    "        probability = count / total_examples\n",
    "        if probability > 0:\n",
    "            ent -= probability * math.log2(probability)\n",
    "    \n",
    "    return ent\n",
    "\n",
    "def get_subset(examples: list[dict], attribute: str, value) -> list[dict]:\n",
    "    return [ex for ex in examples if ex[attribute] == value]\n",
    "\n",
    "def information_gain(examples: list[dict], attribute: str, target_attr: str) -> float:\n",
    "    total_entropy = entropy(examples, target_attr)\n",
    "    values = set(ex[attribute] for ex in examples)\n",
    "    total_examples = len(examples)\n",
    "    \n",
    "    if total_examples == 0:\n",
    "        return 0\n",
    "\n",
    "    weighted_entropy = 0.0\n",
    "    for value in values:\n",
    "        subset = get_subset(examples, attribute, value)\n",
    "        subset_size = len(subset)\n",
    "        \n",
    "        if subset_size > 0:\n",
    "            weighted_entropy += (subset_size / total_examples) * entropy(subset, target_attr)\n",
    "            \n",
    "    return total_entropy - weighted_entropy\n",
    "\n",
    "def choose_best_attribute(examples: list[dict], attributes: list[str], target_attr: str) -> str:\n",
    "\n",
    "    best_gain = -1.0\n",
    "    best_attr = None\n",
    "    \n",
    "    for attr in attributes:\n",
    "        gain = information_gain(examples, attr, target_attr)\n",
    "        if gain > best_gain:\n",
    "            best_gain = gain\n",
    "            best_attr = attr\n",
    "            \n",
    "    return best_attr\n",
    "\n",
    "def majority_value(examples: list[dict], target_attr: str):\n",
    "\n",
    "    counts = Counter(ex[target_attr] for ex in examples)\n",
    "    return counts.most_common(1)[0][0]\n",
    "\n",
    "def learn_decision_tree(examples: list[dict], attributes: list[str], target_attr: str, parent_majority_class=None):\n",
    "    \n",
    "    if not examples:\n",
    "        return parent_majority_class\n",
    "\n",
    "    all_target_vals = [ex[target_attr] for ex in examples]\n",
    "    current_majority = Counter(all_target_vals).most_common(1)[0][0]\n",
    "\n",
    "    if len(set(all_target_vals)) == 1:\n",
    "        return all_target_vals[0]\n",
    "\n",
    "    if not attributes:\n",
    "        return current_majority\n",
    "\n",
    "    best_attr = choose_best_attribute(examples, attributes, target_attr)\n",
    "    tree = {best_attr: {}}\n",
    "    remaining_attributes = [attr for attr in attributes if attr != best_attr]\n",
    "\n",
    "    for value in set(ex[best_attr] for ex in examples):\n",
    "        subset = get_subset(examples, best_attr, value)\n",
    "        subtree = learn_decision_tree(subset, remaining_attributes, target_attr, current_majority)\n",
    "        tree[best_attr][value] = subtree\n",
    "\n",
    "    return tree"
   ],
   "id": "initial_id",
   "outputs": [],
   "execution_count": 7
  },
  {
   "metadata": {
    "ExecuteTime": {
     "end_time": "2025-10-30T17:54:07.155414Z",
     "start_time": "2025-10-30T17:54:07.153092Z"
    }
   },
   "cell_type": "code",
   "source": "print(learn_decision_tree([ {'Outlook': 'Sunny', 'Wind': 'Weak', 'PlayTennis': 'No'}, {'Outlook': 'Overcast', 'Wind': 'Strong', 'PlayTennis': 'Yes'}, {'Outlook': 'Rain', 'Wind': 'Weak', 'PlayTennis': 'Yes'}, {'Outlook': 'Sunny', 'Wind': 'Strong', 'PlayTennis': 'No'}, {'Outlook': 'Sunny', 'Wind': 'Weak', 'PlayTennis': 'Yes'}, {'Outlook': 'Overcast', 'Wind': 'Weak', 'PlayTennis': 'Yes'}, {'Outlook': 'Rain', 'Wind': 'Strong', 'PlayTennis': 'No'}, {'Outlook': 'Rain', 'Wind': 'Weak', 'PlayTennis': 'Yes'} ], ['Outlook', 'Wind'], 'PlayTennis'))",
   "id": "ba2c26b381cbef12",
   "outputs": [
    {
     "name": "stdout",
     "output_type": "stream",
     "text": [
      "{'Outlook': {'Rain': {'Wind': {'Strong': 'No', 'Weak': 'Yes'}}, 'Overcast': 'Yes', 'Sunny': {'Wind': {'Strong': 'No', 'Weak': 'No'}}}}\n"
     ]
    }
   ],
   "execution_count": 11
  }
 ],
 "metadata": {
  "kernelspec": {
   "display_name": "Python 3",
   "language": "python",
   "name": "python3"
  },
  "language_info": {
   "codemirror_mode": {
    "name": "ipython",
    "version": 2
   },
   "file_extension": ".py",
   "mimetype": "text/x-python",
   "name": "python",
   "nbconvert_exporter": "python",
   "pygments_lexer": "ipython2",
   "version": "2.7.6"
  }
 },
 "nbformat": 4,
 "nbformat_minor": 5
}
