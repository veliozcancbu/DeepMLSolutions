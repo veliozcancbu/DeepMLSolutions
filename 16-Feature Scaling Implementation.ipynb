{
 "cells": [
  {
   "cell_type": "code",
   "execution_count": null,
   "id": "initial_id",
   "metadata": {
    "collapsed": true
   },
   "outputs": [],
   "source": [
    "\"\"\"\n",
    "Write a Python function that performs feature scaling on a dataset using both standardization and min-max normalization. The function should take a 2D NumPy array as input, where each row represents a data sample and each column represents a feature. It should return two 2D NumPy arrays: one scaled by standardization and one by min-max normalization. Make sure all results are rounded to the nearest 4th decimal.\n",
    "\n",
    "Example:\n",
    "Input:\n",
    "data = np.array([[1, 2], [3, 4], [5, 6]])\n",
    "Output:\n",
    "([[-1.2247, -1.2247], [0.0, 0.0], [1.2247, 1.2247]], [[0.0, 0.0], [0.5, 0.5], [1.0, 1.0]])\n",
    "Reasoning:\n",
    "Standardization rescales the feature to have a mean of 0 and a standard deviation of 1. Min-max normalization rescales the feature to a range of [0, 1], where the minimum feature value maps to 0 and the maximum to 1.\n",
    "\"\"\""
   ]
  },
  {
   "metadata": {
    "ExecuteTime": {
     "end_time": "2025-10-25T22:17:02.884011Z",
     "start_time": "2025-10-25T22:17:02.792931Z"
    }
   },
   "cell_type": "code",
   "source": [
    "import numpy as np\n",
    "\n",
    "def feature_scaling(data: np.ndarray) -> (np.ndarray, np.ndarray):\n",
    "\n",
    "    data = np.asarray(data, dtype=float)\n",
    "\n",
    "    mean = np.mean(data, axis=0)\n",
    "    std = np.std(data, axis=0, ddof=0)  \n",
    "    standardized = (data - mean) / std\n",
    "\n",
    "    min_val = np.min(data, axis=0)\n",
    "    max_val = np.max(data, axis=0)\n",
    "    normalized = (data - min_val) / (max_val - min_val)\n",
    "\n",
    "    standardized = np.round(standardized, 4)\n",
    "    normalized = np.round(normalized, 4)\n",
    "\n",
    "    return standardized, normalized"
   ],
   "id": "2a8a8934abbc8f49",
   "outputs": [],
   "execution_count": 1
  },
  {
   "metadata": {
    "ExecuteTime": {
     "end_time": "2025-10-25T22:18:14.862919Z",
     "start_time": "2025-10-25T22:18:14.860697Z"
    }
   },
   "cell_type": "code",
   "source": [
    "data = np.array([[1, 2], [3, 4], [5, 6]])\n",
    "standardized, normalized = feature_scaling(data)\n",
    "print(standardized)"
   ],
   "id": "eb3b9506ec3544c6",
   "outputs": [
    {
     "name": "stdout",
     "output_type": "stream",
     "text": [
      "[[-1.2247 -1.2247]\n",
      " [ 0.      0.    ]\n",
      " [ 1.2247  1.2247]]\n"
     ]
    }
   ],
   "execution_count": 3
  },
  {
   "metadata": {
    "ExecuteTime": {
     "end_time": "2025-10-25T22:18:16.516510Z",
     "start_time": "2025-10-25T22:18:16.513201Z"
    }
   },
   "cell_type": "code",
   "source": "print(normalized)",
   "id": "2a42058843ae788",
   "outputs": [
    {
     "name": "stdout",
     "output_type": "stream",
     "text": [
      "[[0.  0. ]\n",
      " [0.5 0.5]\n",
      " [1.  1. ]]\n"
     ]
    }
   ],
   "execution_count": 4
  }
 ],
 "metadata": {
  "kernelspec": {
   "display_name": "Python 3",
   "language": "python",
   "name": "python3"
  },
  "language_info": {
   "codemirror_mode": {
    "name": "ipython",
    "version": 2
   },
   "file_extension": ".py",
   "mimetype": "text/x-python",
   "name": "python",
   "nbconvert_exporter": "python",
   "pygments_lexer": "ipython2",
   "version": "2.7.6"
  }
 },
 "nbformat": 4,
 "nbformat_minor": 5
}
